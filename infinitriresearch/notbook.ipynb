{
 "cells": [
  {
   "cell_type": "code",
   "execution_count": 1,
   "metadata": {},
   "outputs": [],
   "source": [
    "#importing all necessary library\n",
    "from selenium import webdriver\n",
    "import numpy as np\n",
    "import pandas as pd\n",
    "from bs4 import BeautifulSoup\n",
    "import time"
   ]
  },
  {
   "cell_type": "code",
   "execution_count": 2,
   "metadata": {},
   "outputs": [],
   "source": [
    "url = r\"https://cdiscount.com/bricolage/climatisation/traitement-de-l-air/ioniseur/l-166130303.html\""
   ]
  },
  {
   "cell_type": "code",
   "execution_count": 3,
   "metadata": {},
   "outputs": [
    {
     "name": "stderr",
     "output_type": "stream",
     "text": [
      "C:\\Users\\meets\\AppData\\Local\\Temp\\ipykernel_17012\\3541580489.py:2: DeprecationWarning: executable_path has been deprecated, please pass in a Service object\n",
      "  driver = webdriver.Chrome(executable_path=\"Chromedriver.exe\");\n"
     ]
    }
   ],
   "source": [
    "#getting chrome driver\n",
    "driver = webdriver.Chrome(executable_path=\"Chromedriver.exe\");\n",
    "#wait for few minitue \n",
    "driver.get(url);\n",
    "#please solve captcha then continue."
   ]
  },
  {
   "cell_type": "code",
   "execution_count": 6,
   "metadata": {},
   "outputs": [],
   "source": [
    "ul = []\n",
    "while True:\n",
    "    time.sleep(2)\n",
    "    content = driver.page_source\n",
    "    soup = BeautifulSoup(content,'html.parser')\n",
    "    ul = soup.find('ul', attrs= {'id':'lpBloc' , 'class':'lpGrid'})\n",
    "    if ul:\n",
    "        break"
   ]
  },
  {
   "cell_type": "code",
   "execution_count": 8,
   "metadata": {},
   "outputs": [],
   "source": [
    "\n",
    "#only taking list item  which has data-sku attribute\n",
    "items = [x for x  in ul.find_all('li') if x.has_attr('data-sku')]"
   ]
  },
  {
   "cell_type": "code",
   "execution_count": 9,
   "metadata": {},
   "outputs": [],
   "source": [
    "#initialize list\n",
    "id_ls = []\n",
    "link_ls = []\n",
    "names_ls = []\n",
    "number_of_rating_ls =[]\n",
    "c_discount_ls = []\n",
    "free_delivery_ls = []\n",
    "price_ls = []\n",
    "\n",
    "#looping through each items\n",
    "for item in items:\n",
    "\n",
    "    #getting id\n",
    "    id = item['data-sku']\n",
    "    id_ls.append(id)\n",
    "\n",
    "    #getting link\n",
    "    link = item.find('a')['href']\n",
    "    link_ls.append(link)\n",
    "\n",
    "    #getting name\n",
    "    names = (item.find('span',attrs={'class' : 'prdtTit'}))\n",
    "    if names:\n",
    "        name = names.contents[0]\n",
    "        names_ls.append(name)\n",
    "    else:\n",
    "        names_ls.append('')\n",
    "\n",
    "    #getting numbers of rating\n",
    "    rating_band = (item.find('div',attrs={'class':'prdtBStar'}))\n",
    "    number_of_rating = 0\n",
    "    if rating_band:\n",
    "        number_of_ratings = rating_band.find('span')\n",
    "        if number_of_ratings:\n",
    "            number_of_rating = number_of_ratings.contents[0]\n",
    "    number_of_rating_ls.append(number_of_rating)\n",
    "\n",
    "    #is c discount is available\n",
    "    c_discount = False\n",
    "    c_discounts_band = item.find('div',attrs={'class' : 'cdavZone'})\n",
    "    if c_discounts_band:\n",
    "        c_discounts = c_discounts_band.contents\n",
    "        if c_discounts:\n",
    "            if c_discounts[0]=='Eligible':\n",
    "                c_discount = True\n",
    "    c_discount_ls.append(c_discount)\n",
    "    \n",
    "    #is free delivery is available\n",
    "    free_delivery_band = item.find('div',attrs={'class' : 'livraisonGratuite'})\n",
    "    free_delivery = False\n",
    "    if free_delivery_band:\n",
    "        free_deliverys = free_delivery_band.contents\n",
    "        if free_deliverys:\n",
    "            if free_deliverys[1]=='Livraison gratuite':\n",
    "                free_delivery = True\n",
    "    free_delivery_ls.append(free_delivery)\n",
    "    \n",
    "    #getting price\n",
    "    price_span = item.find('span',attrs={'class' : 'price priceColor hideFromPro'})\n",
    "    price= 0\n",
    "    if price_span:\n",
    "        price_tag = price_span.contents\n",
    "        if price_tag:\n",
    "            price_text = (price_tag[0]).replace(\",\",\"\")\n",
    "            price = int(price_text[:-1])\n",
    "\n",
    "    price_ls.append(price)"
   ]
  },
  {
   "cell_type": "code",
   "execution_count": 11,
   "metadata": {},
   "outputs": [],
   "source": [
    "df = pd.DataFrame(\n",
    "    {\n",
    "        'Id':id_ls,\n",
    "        'Link':link_ls,\n",
    "        'Name':names_ls,\n",
    "        'number of rating':number_of_rating_ls,\n",
    "        'C discount':c_discount_ls,\n",
    "        'Free delivery ls':free_delivery_ls,\n",
    "        'Price in Euro':price_ls,\n",
    "    }\n",
    ") \n",
    "df.to_csv('products.csv', encoding='utf-8')"
   ]
  },
  {
   "cell_type": "code",
   "execution_count": null,
   "metadata": {},
   "outputs": [],
   "source": []
  }
 ],
 "metadata": {
  "kernelspec": {
   "display_name": "Python 3.10.4 64-bit",
   "language": "python",
   "name": "python3"
  },
  "language_info": {
   "codemirror_mode": {
    "name": "ipython",
    "version": 3
   },
   "file_extension": ".py",
   "mimetype": "text/x-python",
   "name": "python",
   "nbconvert_exporter": "python",
   "pygments_lexer": "ipython3",
   "version": "3.10.4"
  },
  "orig_nbformat": 4,
  "vscode": {
   "interpreter": {
    "hash": "e9c11a1c18216324840b001e2e0a9c8d08ea3dd18795a1de4b551f1d9f042c07"
   }
  }
 },
 "nbformat": 4,
 "nbformat_minor": 2
}
